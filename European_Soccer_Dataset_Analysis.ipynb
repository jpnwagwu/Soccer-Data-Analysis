{
 "cells": [
  {
   "cell_type": "markdown",
   "metadata": {},
   "source": [
    "# Project: Investigate a Dataset - [European Soccer Dataset]\n",
    "\n",
    "## Table of Contents\n",
    "<ul>\n",
    "    <li><a href=\"#intro\">Introduction</a></li>\n",
    "    <li><a href=\"#wrangling\">Data Wrangling</a></li>\n",
    "    <li><a href=\"#eda\">Exploratory Data Analysis</a></li>\n",
    "    <li><a href=\"#conclusions\">Conclusions</a></li>\n",
    "</ul>"
   ]
  },
  {
   "cell_type": "markdown",
   "metadata": {},
   "source": [
    "<a id='intro'></a>\n",
    "## Introduction\n",
    "\n",
    "### Dataset Description \n",
    "\n",
    "    The European Soccer Dataset was gotten from Kaggle. It contains data about players, teams, soccer matches played and \n",
    "    individual player attributes. It is a huge dataset with 7 tables containing multiple columns and entries.\n",
    "    For this Analysis, I focused on the Player Table and Player Attributes Table. Since the Data is stored in .sqlite on \n",
    "    kaggle. I installed SQLliteserver on my computer and JOIned the two tables using SQL.\n",
    "    \n",
    "    "
   ]
  },
  {
   "cell_type": "markdown",
   "metadata": {},
   "source": [
    "![title](picture.png)"
   ]
  },
  {
   "cell_type": "markdown",
   "metadata": {},
   "source": [
    "The player table contains 7 columns: id, player_api_id, player_name, player_fifa_api_id, birthday, height and weight\n",
    "    \n",
    "    The player_Attributes table contains 42 columns: id, player_fifa_api_id, player_api_id, date, overall_rating, potential,\n",
    "    preferred_foot, attacking_work_rate, defensive_work_rate, crossing, finishing, heading_accuracy, short_passing, volleys,\n",
    "    dribbling, curve, free_kick_accuracy, long_passing, ball_control, acceleration, sprint_speed, agility, reactions, balance,\n",
    "    shot_power, jumping, stamina, strength, long_shots, aggression, interceptions, positioning, vision, penalties, marking,\n",
    "    standing_tackle, sliding_tackle, gk_diving, gk_handling, gk_kicking, gk_positioning, gk_reflexes\n",
    "    \n",
    "\n",
    "### Question(s) for Analysis\n",
    "\n",
    "     We first answer simple questions about our data for example tallest player, shortest player, Most improved player from         2007 to 2016, Player with the most potential.Then we answer complex questions\n",
    "\n",
    "    Question1: Do players born in a specific month or year seem to have a better overall rating?\n",
    "    Question2: Do left footed players have better potential?\n",
    "    Question3: Do players with high Potential have Higher Ratings?\n"
   ]
  },
  {
   "cell_type": "code",
   "execution_count": null,
   "metadata": {},
   "outputs": [],
   "source": []
  },
  {
   "cell_type": "code",
   "execution_count": 5,
   "metadata": {},
   "outputs": [],
   "source": [
    "import pandas as pd\n",
    "import numpy as np\n",
    "import matplotlib.pyplot as plt\n",
    "import seaborn as sns\n",
    "%matplotlib inline\n"
   ]
  },
  {
   "cell_type": "code",
   "execution_count": 6,
   "metadata": {},
   "outputs": [],
   "source": [
    "# Upgrade pandas to use dataframe.explode() function. \n",
    "#!pip install --upgrade pandas==0.25.0"
   ]
  },
  {
   "cell_type": "markdown",
   "metadata": {},
   "source": [
    "<a id='wrangling'></a>\n",
    "## Data Wrangling\n"
   ]
  },
  {
   "cell_type": "code",
   "execution_count": 16,
   "metadata": {},
   "outputs": [
    {
     "data": {
      "text/html": [
       "<div>\n",
       "<style scoped>\n",
       "    .dataframe tbody tr th:only-of-type {\n",
       "        vertical-align: middle;\n",
       "    }\n",
       "\n",
       "    .dataframe tbody tr th {\n",
       "        vertical-align: top;\n",
       "    }\n",
       "\n",
       "    .dataframe thead th {\n",
       "        text-align: right;\n",
       "    }\n",
       "</style>\n",
       "<table border=\"1\" class=\"dataframe\">\n",
       "  <thead>\n",
       "    <tr style=\"text-align: right;\">\n",
       "      <th></th>\n",
       "      <th>id</th>\n",
       "      <th>player_api_id</th>\n",
       "      <th>player_name</th>\n",
       "      <th>player_fifa_api_id</th>\n",
       "      <th>birthday</th>\n",
       "      <th>height</th>\n",
       "      <th>weight</th>\n",
       "      <th>id.1</th>\n",
       "      <th>player_fifa_api_id.1</th>\n",
       "      <th>player_api_id.1</th>\n",
       "      <th>...</th>\n",
       "      <th>vision</th>\n",
       "      <th>penalties</th>\n",
       "      <th>marking</th>\n",
       "      <th>standing_tackle</th>\n",
       "      <th>sliding_tackle</th>\n",
       "      <th>gk_diving</th>\n",
       "      <th>gk_handling</th>\n",
       "      <th>gk_kicking</th>\n",
       "      <th>gk_positioning</th>\n",
       "      <th>gk_reflexes</th>\n",
       "    </tr>\n",
       "  </thead>\n",
       "  <tbody>\n",
       "    <tr>\n",
       "      <th>0</th>\n",
       "      <td>1</td>\n",
       "      <td>505942</td>\n",
       "      <td>Aaron Appindangoye</td>\n",
       "      <td>218353</td>\n",
       "      <td>1992-02-29 00:00:00</td>\n",
       "      <td>182.88</td>\n",
       "      <td>187</td>\n",
       "      <td>1</td>\n",
       "      <td>218353</td>\n",
       "      <td>505942</td>\n",
       "      <td>...</td>\n",
       "      <td>54.0</td>\n",
       "      <td>48.0</td>\n",
       "      <td>65.0</td>\n",
       "      <td>69.0</td>\n",
       "      <td>69.0</td>\n",
       "      <td>6.0</td>\n",
       "      <td>11.0</td>\n",
       "      <td>10.0</td>\n",
       "      <td>8.0</td>\n",
       "      <td>8.0</td>\n",
       "    </tr>\n",
       "    <tr>\n",
       "      <th>1</th>\n",
       "      <td>1</td>\n",
       "      <td>505942</td>\n",
       "      <td>Aaron Appindangoye</td>\n",
       "      <td>218353</td>\n",
       "      <td>1992-02-29 00:00:00</td>\n",
       "      <td>182.88</td>\n",
       "      <td>187</td>\n",
       "      <td>2</td>\n",
       "      <td>218353</td>\n",
       "      <td>505942</td>\n",
       "      <td>...</td>\n",
       "      <td>54.0</td>\n",
       "      <td>48.0</td>\n",
       "      <td>65.0</td>\n",
       "      <td>69.0</td>\n",
       "      <td>69.0</td>\n",
       "      <td>6.0</td>\n",
       "      <td>11.0</td>\n",
       "      <td>10.0</td>\n",
       "      <td>8.0</td>\n",
       "      <td>8.0</td>\n",
       "    </tr>\n",
       "    <tr>\n",
       "      <th>2</th>\n",
       "      <td>1</td>\n",
       "      <td>505942</td>\n",
       "      <td>Aaron Appindangoye</td>\n",
       "      <td>218353</td>\n",
       "      <td>1992-02-29 00:00:00</td>\n",
       "      <td>182.88</td>\n",
       "      <td>187</td>\n",
       "      <td>3</td>\n",
       "      <td>218353</td>\n",
       "      <td>505942</td>\n",
       "      <td>...</td>\n",
       "      <td>54.0</td>\n",
       "      <td>48.0</td>\n",
       "      <td>65.0</td>\n",
       "      <td>66.0</td>\n",
       "      <td>69.0</td>\n",
       "      <td>6.0</td>\n",
       "      <td>11.0</td>\n",
       "      <td>10.0</td>\n",
       "      <td>8.0</td>\n",
       "      <td>8.0</td>\n",
       "    </tr>\n",
       "    <tr>\n",
       "      <th>3</th>\n",
       "      <td>1</td>\n",
       "      <td>505942</td>\n",
       "      <td>Aaron Appindangoye</td>\n",
       "      <td>218353</td>\n",
       "      <td>1992-02-29 00:00:00</td>\n",
       "      <td>182.88</td>\n",
       "      <td>187</td>\n",
       "      <td>4</td>\n",
       "      <td>218353</td>\n",
       "      <td>505942</td>\n",
       "      <td>...</td>\n",
       "      <td>53.0</td>\n",
       "      <td>47.0</td>\n",
       "      <td>62.0</td>\n",
       "      <td>63.0</td>\n",
       "      <td>66.0</td>\n",
       "      <td>5.0</td>\n",
       "      <td>10.0</td>\n",
       "      <td>9.0</td>\n",
       "      <td>7.0</td>\n",
       "      <td>7.0</td>\n",
       "    </tr>\n",
       "    <tr>\n",
       "      <th>4</th>\n",
       "      <td>1</td>\n",
       "      <td>505942</td>\n",
       "      <td>Aaron Appindangoye</td>\n",
       "      <td>218353</td>\n",
       "      <td>1992-02-29 00:00:00</td>\n",
       "      <td>182.88</td>\n",
       "      <td>187</td>\n",
       "      <td>5</td>\n",
       "      <td>218353</td>\n",
       "      <td>505942</td>\n",
       "      <td>...</td>\n",
       "      <td>53.0</td>\n",
       "      <td>47.0</td>\n",
       "      <td>62.0</td>\n",
       "      <td>63.0</td>\n",
       "      <td>66.0</td>\n",
       "      <td>5.0</td>\n",
       "      <td>10.0</td>\n",
       "      <td>9.0</td>\n",
       "      <td>7.0</td>\n",
       "      <td>7.0</td>\n",
       "    </tr>\n",
       "  </tbody>\n",
       "</table>\n",
       "<p>5 rows × 49 columns</p>\n",
       "</div>"
      ],
      "text/plain": [
       "   id  player_api_id         player_name  player_fifa_api_id  \\\n",
       "0   1         505942  Aaron Appindangoye              218353   \n",
       "1   1         505942  Aaron Appindangoye              218353   \n",
       "2   1         505942  Aaron Appindangoye              218353   \n",
       "3   1         505942  Aaron Appindangoye              218353   \n",
       "4   1         505942  Aaron Appindangoye              218353   \n",
       "\n",
       "              birthday  height  weight  id.1  player_fifa_api_id.1  \\\n",
       "0  1992-02-29 00:00:00  182.88     187     1                218353   \n",
       "1  1992-02-29 00:00:00  182.88     187     2                218353   \n",
       "2  1992-02-29 00:00:00  182.88     187     3                218353   \n",
       "3  1992-02-29 00:00:00  182.88     187     4                218353   \n",
       "4  1992-02-29 00:00:00  182.88     187     5                218353   \n",
       "\n",
       "   player_api_id.1  ... vision  penalties  marking standing_tackle  \\\n",
       "0           505942  ...   54.0       48.0     65.0            69.0   \n",
       "1           505942  ...   54.0       48.0     65.0            69.0   \n",
       "2           505942  ...   54.0       48.0     65.0            66.0   \n",
       "3           505942  ...   53.0       47.0     62.0            63.0   \n",
       "4           505942  ...   53.0       47.0     62.0            63.0   \n",
       "\n",
       "  sliding_tackle gk_diving  gk_handling  gk_kicking  gk_positioning  \\\n",
       "0           69.0       6.0         11.0        10.0             8.0   \n",
       "1           69.0       6.0         11.0        10.0             8.0   \n",
       "2           69.0       6.0         11.0        10.0             8.0   \n",
       "3           66.0       5.0         10.0         9.0             7.0   \n",
       "4           66.0       5.0         10.0         9.0             7.0   \n",
       "\n",
       "   gk_reflexes  \n",
       "0          8.0  \n",
       "1          8.0  \n",
       "2          8.0  \n",
       "3          7.0  \n",
       "4          7.0  \n",
       "\n",
       "[5 rows x 49 columns]"
      ]
     },
     "execution_count": 16,
     "metadata": {},
     "output_type": "execute_result"
    }
   ],
   "source": [
    "df = pd.read_csv('European_soccer_database.csv')\n",
    "df.head()"
   ]
  },
  {
   "cell_type": "code",
   "execution_count": 17,
   "metadata": {},
   "outputs": [
    {
     "name": "stdout",
     "output_type": "stream",
     "text": [
      "<class 'pandas.core.frame.DataFrame'>\n",
      "RangeIndex: 183978 entries, 0 to 183977\n",
      "Data columns (total 49 columns):\n",
      " #   Column                Non-Null Count   Dtype  \n",
      "---  ------                --------------   -----  \n",
      " 0   id                    183978 non-null  int64  \n",
      " 1   player_api_id         183978 non-null  int64  \n",
      " 2   player_name           183978 non-null  object \n",
      " 3   player_fifa_api_id    183978 non-null  int64  \n",
      " 4   birthday              183978 non-null  object \n",
      " 5   height                183978 non-null  float64\n",
      " 6   weight                183978 non-null  int64  \n",
      " 7   id.1                  183978 non-null  int64  \n",
      " 8   player_fifa_api_id.1  183978 non-null  int64  \n",
      " 9   player_api_id.1       183978 non-null  int64  \n",
      " 10  date                  183978 non-null  object \n",
      " 11  overall_rating        183142 non-null  float64\n",
      " 12  potential             183142 non-null  float64\n",
      " 13  preferred_foot        183142 non-null  object \n",
      " 14  attacking_work_rate   180748 non-null  object \n",
      " 15  defensive_work_rate   183142 non-null  object \n",
      " 16  crossing              183142 non-null  float64\n",
      " 17  finishing             183142 non-null  float64\n",
      " 18  heading_accuracy      183142 non-null  float64\n",
      " 19  short_passing         183142 non-null  float64\n",
      " 20  volleys               181265 non-null  float64\n",
      " 21  dribbling             183142 non-null  float64\n",
      " 22  curve                 181265 non-null  float64\n",
      " 23  free_kick_accuracy    183142 non-null  float64\n",
      " 24  long_passing          183142 non-null  float64\n",
      " 25  ball_control          183142 non-null  float64\n",
      " 26  acceleration          183142 non-null  float64\n",
      " 27  sprint_speed          183142 non-null  float64\n",
      " 28  agility               181265 non-null  float64\n",
      " 29  reactions             183142 non-null  float64\n",
      " 30  balance               181265 non-null  float64\n",
      " 31  shot_power            183142 non-null  float64\n",
      " 32  jumping               181265 non-null  float64\n",
      " 33  stamina               183142 non-null  float64\n",
      " 34  strength              183142 non-null  float64\n",
      " 35  long_shots            183142 non-null  float64\n",
      " 36  aggression            183142 non-null  float64\n",
      " 37  interceptions         183142 non-null  float64\n",
      " 38  positioning           183142 non-null  float64\n",
      " 39  vision                181265 non-null  float64\n",
      " 40  penalties             183142 non-null  float64\n",
      " 41  marking               183142 non-null  float64\n",
      " 42  standing_tackle       183142 non-null  float64\n",
      " 43  sliding_tackle        181265 non-null  float64\n",
      " 44  gk_diving             183142 non-null  float64\n",
      " 45  gk_handling           183142 non-null  float64\n",
      " 46  gk_kicking            183142 non-null  float64\n",
      " 47  gk_positioning        183142 non-null  float64\n",
      " 48  gk_reflexes           183142 non-null  float64\n",
      "dtypes: float64(36), int64(7), object(6)\n",
      "memory usage: 68.8+ MB\n"
     ]
    }
   ],
   "source": [
    "df.info()"
   ]
  },
  {
   "cell_type": "markdown",
   "metadata": {},
   "source": [
    "# DATA CLEANING\n",
    "  \n",
    "  \n",
    "Considering the questions posed above the following steps were taken to clean up the data and prepare the data for analysis. "
   ]
  },
  {
   "cell_type": "code",
   "execution_count": 18,
   "metadata": {},
   "outputs": [],
   "source": [
    "#First to make our analysis simpler from start. We will drop columns that are not part of our analysis\n",
    "df=df.drop(['id', 'player_fifa_api_id', 'id.1', 'player_fifa_api_id.1', 'player_api_id.1', 'attacking_work_rate', 'defensive_work_rate', 'crossing', 'finishing', 'heading_accuracy', 'short_passing', 'volleys',\n",
    "    'dribbling', 'curve', 'free_kick_accuracy', 'long_passing', 'ball_control', 'acceleration', 'sprint_speed', 'agility', 'reactions', 'balance',\n",
    "    'shot_power', 'jumping', 'stamina', 'strength', 'long_shots', 'aggression', 'interceptions', 'positioning', 'vision', 'penalties', 'marking',\n",
    "    'standing_tackle', 'sliding_tackle', 'gk_diving', 'gk_handling', 'gk_kicking', 'gk_positioning', 'gk_reflexes' ], axis=1)"
   ]
  },
  {
   "cell_type": "code",
   "execution_count": 19,
   "metadata": {},
   "outputs": [
    {
     "data": {
      "text/html": [
       "<div>\n",
       "<style scoped>\n",
       "    .dataframe tbody tr th:only-of-type {\n",
       "        vertical-align: middle;\n",
       "    }\n",
       "\n",
       "    .dataframe tbody tr th {\n",
       "        vertical-align: top;\n",
       "    }\n",
       "\n",
       "    .dataframe thead th {\n",
       "        text-align: right;\n",
       "    }\n",
       "</style>\n",
       "<table border=\"1\" class=\"dataframe\">\n",
       "  <thead>\n",
       "    <tr style=\"text-align: right;\">\n",
       "      <th></th>\n",
       "      <th>player_api_id</th>\n",
       "      <th>player_name</th>\n",
       "      <th>birthday</th>\n",
       "      <th>height</th>\n",
       "      <th>weight</th>\n",
       "      <th>date</th>\n",
       "      <th>overall_rating</th>\n",
       "      <th>potential</th>\n",
       "      <th>preferred_foot</th>\n",
       "    </tr>\n",
       "  </thead>\n",
       "  <tbody>\n",
       "    <tr>\n",
       "      <th>0</th>\n",
       "      <td>505942</td>\n",
       "      <td>Aaron Appindangoye</td>\n",
       "      <td>1992-02-29 00:00:00</td>\n",
       "      <td>182.88</td>\n",
       "      <td>187</td>\n",
       "      <td>2016-02-18 00:00:00</td>\n",
       "      <td>67.0</td>\n",
       "      <td>71.0</td>\n",
       "      <td>right</td>\n",
       "    </tr>\n",
       "    <tr>\n",
       "      <th>1</th>\n",
       "      <td>505942</td>\n",
       "      <td>Aaron Appindangoye</td>\n",
       "      <td>1992-02-29 00:00:00</td>\n",
       "      <td>182.88</td>\n",
       "      <td>187</td>\n",
       "      <td>2015-11-19 00:00:00</td>\n",
       "      <td>67.0</td>\n",
       "      <td>71.0</td>\n",
       "      <td>right</td>\n",
       "    </tr>\n",
       "    <tr>\n",
       "      <th>2</th>\n",
       "      <td>505942</td>\n",
       "      <td>Aaron Appindangoye</td>\n",
       "      <td>1992-02-29 00:00:00</td>\n",
       "      <td>182.88</td>\n",
       "      <td>187</td>\n",
       "      <td>2015-09-21 00:00:00</td>\n",
       "      <td>62.0</td>\n",
       "      <td>66.0</td>\n",
       "      <td>right</td>\n",
       "    </tr>\n",
       "    <tr>\n",
       "      <th>3</th>\n",
       "      <td>505942</td>\n",
       "      <td>Aaron Appindangoye</td>\n",
       "      <td>1992-02-29 00:00:00</td>\n",
       "      <td>182.88</td>\n",
       "      <td>187</td>\n",
       "      <td>2015-03-20 00:00:00</td>\n",
       "      <td>61.0</td>\n",
       "      <td>65.0</td>\n",
       "      <td>right</td>\n",
       "    </tr>\n",
       "    <tr>\n",
       "      <th>4</th>\n",
       "      <td>505942</td>\n",
       "      <td>Aaron Appindangoye</td>\n",
       "      <td>1992-02-29 00:00:00</td>\n",
       "      <td>182.88</td>\n",
       "      <td>187</td>\n",
       "      <td>2007-02-22 00:00:00</td>\n",
       "      <td>61.0</td>\n",
       "      <td>65.0</td>\n",
       "      <td>right</td>\n",
       "    </tr>\n",
       "  </tbody>\n",
       "</table>\n",
       "</div>"
      ],
      "text/plain": [
       "   player_api_id         player_name             birthday  height  weight  \\\n",
       "0         505942  Aaron Appindangoye  1992-02-29 00:00:00  182.88     187   \n",
       "1         505942  Aaron Appindangoye  1992-02-29 00:00:00  182.88     187   \n",
       "2         505942  Aaron Appindangoye  1992-02-29 00:00:00  182.88     187   \n",
       "3         505942  Aaron Appindangoye  1992-02-29 00:00:00  182.88     187   \n",
       "4         505942  Aaron Appindangoye  1992-02-29 00:00:00  182.88     187   \n",
       "\n",
       "                  date  overall_rating  potential preferred_foot  \n",
       "0  2016-02-18 00:00:00            67.0       71.0          right  \n",
       "1  2015-11-19 00:00:00            67.0       71.0          right  \n",
       "2  2015-09-21 00:00:00            62.0       66.0          right  \n",
       "3  2015-03-20 00:00:00            61.0       65.0          right  \n",
       "4  2007-02-22 00:00:00            61.0       65.0          right  "
      ]
     },
     "execution_count": 19,
     "metadata": {},
     "output_type": "execute_result"
    }
   ],
   "source": [
    "df.head()"
   ]
  },
  {
   "cell_type": "code",
   "execution_count": 20,
   "metadata": {},
   "outputs": [],
   "source": [
    "#convert date column to date time format and then extract years and months and drop original columns\n",
    "\n",
    "df['date']=pd.to_datetime(df['date'])\n",
    "df['date_year'] = df['date'].dt.year\n",
    "df['date_month'] = df['date'].dt.month\n",
    "df=df.drop(['date'], axis=1)"
   ]
  },
  {
   "cell_type": "code",
   "execution_count": 21,
   "metadata": {},
   "outputs": [],
   "source": [
    "#convert birthday column to date time format and then extract years and months and drop original columns\n",
    "df['birthday']=pd.to_datetime(df['birthday'])\n",
    "df['birth_year'] = df['birthday'].dt.year\n",
    "df['birth_month'] = df['birthday'].dt.month\n",
    "df=df.drop(['birthday'], axis=1)"
   ]
  },
  {
   "cell_type": "code",
   "execution_count": 22,
   "metadata": {},
   "outputs": [
    {
     "data": {
      "text/plain": [
       "2013    38867\n",
       "2014    32808\n",
       "2015    31834\n",
       "2007    16138\n",
       "2016    14103\n",
       "2012    12632\n",
       "2011    11976\n",
       "2010    10829\n",
       "2009     8993\n",
       "2008     5798\n",
       "Name: date_year, dtype: int64"
      ]
     },
     "execution_count": 22,
     "metadata": {},
     "output_type": "execute_result"
    }
   ],
   "source": [
    "#Check count of unique values for each year. Our interest is years 2016 and 2007 \n",
    "df['date_year'].value_counts()"
   ]
  },
  {
   "cell_type": "code",
   "execution_count": 23,
   "metadata": {},
   "outputs": [
    {
     "data": {
      "text/html": [
       "<div>\n",
       "<style scoped>\n",
       "    .dataframe tbody tr th:only-of-type {\n",
       "        vertical-align: middle;\n",
       "    }\n",
       "\n",
       "    .dataframe tbody tr th {\n",
       "        vertical-align: top;\n",
       "    }\n",
       "\n",
       "    .dataframe thead th {\n",
       "        text-align: right;\n",
       "    }\n",
       "</style>\n",
       "<table border=\"1\" class=\"dataframe\">\n",
       "  <thead>\n",
       "    <tr style=\"text-align: right;\">\n",
       "      <th></th>\n",
       "      <th>player_api_id</th>\n",
       "      <th>player_name</th>\n",
       "      <th>height</th>\n",
       "      <th>weight</th>\n",
       "      <th>overall_rating</th>\n",
       "      <th>potential</th>\n",
       "      <th>preferred_foot</th>\n",
       "      <th>date_year</th>\n",
       "      <th>date_month</th>\n",
       "      <th>birth_year</th>\n",
       "      <th>birth_month</th>\n",
       "    </tr>\n",
       "  </thead>\n",
       "  <tbody>\n",
       "    <tr>\n",
       "      <th>4</th>\n",
       "      <td>505942</td>\n",
       "      <td>Aaron Appindangoye</td>\n",
       "      <td>182.88</td>\n",
       "      <td>187</td>\n",
       "      <td>61.0</td>\n",
       "      <td>65.0</td>\n",
       "      <td>right</td>\n",
       "      <td>2007</td>\n",
       "      <td>2</td>\n",
       "      <td>1992</td>\n",
       "      <td>2</td>\n",
       "    </tr>\n",
       "    <tr>\n",
       "      <th>37</th>\n",
       "      <td>155782</td>\n",
       "      <td>Aaron Cresswell</td>\n",
       "      <td>170.18</td>\n",
       "      <td>146</td>\n",
       "      <td>53.0</td>\n",
       "      <td>60.0</td>\n",
       "      <td>right</td>\n",
       "      <td>2007</td>\n",
       "      <td>2</td>\n",
       "      <td>1989</td>\n",
       "      <td>12</td>\n",
       "    </tr>\n",
       "    <tr>\n",
       "      <th>63</th>\n",
       "      <td>162549</td>\n",
       "      <td>Aaron Doran</td>\n",
       "      <td>170.18</td>\n",
       "      <td>163</td>\n",
       "      <td>59.0</td>\n",
       "      <td>70.0</td>\n",
       "      <td>right</td>\n",
       "      <td>2007</td>\n",
       "      <td>2</td>\n",
       "      <td>1991</td>\n",
       "      <td>5</td>\n",
       "    </tr>\n",
       "    <tr>\n",
       "      <th>85</th>\n",
       "      <td>30572</td>\n",
       "      <td>Aaron Galindo</td>\n",
       "      <td>182.88</td>\n",
       "      <td>198</td>\n",
       "      <td>71.0</td>\n",
       "      <td>78.0</td>\n",
       "      <td>right</td>\n",
       "      <td>2007</td>\n",
       "      <td>8</td>\n",
       "      <td>1982</td>\n",
       "      <td>5</td>\n",
       "    </tr>\n",
       "    <tr>\n",
       "      <th>86</th>\n",
       "      <td>30572</td>\n",
       "      <td>Aaron Galindo</td>\n",
       "      <td>182.88</td>\n",
       "      <td>198</td>\n",
       "      <td>71.0</td>\n",
       "      <td>78.0</td>\n",
       "      <td>right</td>\n",
       "      <td>2007</td>\n",
       "      <td>2</td>\n",
       "      <td>1982</td>\n",
       "      <td>5</td>\n",
       "    </tr>\n",
       "    <tr>\n",
       "      <th>...</th>\n",
       "      <td>...</td>\n",
       "      <td>...</td>\n",
       "      <td>...</td>\n",
       "      <td>...</td>\n",
       "      <td>...</td>\n",
       "      <td>...</td>\n",
       "      <td>...</td>\n",
       "      <td>...</td>\n",
       "      <td>...</td>\n",
       "      <td>...</td>\n",
       "      <td>...</td>\n",
       "    </tr>\n",
       "    <tr>\n",
       "      <th>183959</th>\n",
       "      <td>36491</td>\n",
       "      <td>Zsolt Low</td>\n",
       "      <td>180.34</td>\n",
       "      <td>154</td>\n",
       "      <td>67.0</td>\n",
       "      <td>72.0</td>\n",
       "      <td>left</td>\n",
       "      <td>2007</td>\n",
       "      <td>2</td>\n",
       "      <td>1979</td>\n",
       "      <td>4</td>\n",
       "    </tr>\n",
       "    <tr>\n",
       "      <th>183966</th>\n",
       "      <td>35506</td>\n",
       "      <td>Zurab Khizanishvili</td>\n",
       "      <td>185.42</td>\n",
       "      <td>172</td>\n",
       "      <td>75.0</td>\n",
       "      <td>78.0</td>\n",
       "      <td>right</td>\n",
       "      <td>2007</td>\n",
       "      <td>8</td>\n",
       "      <td>1981</td>\n",
       "      <td>10</td>\n",
       "    </tr>\n",
       "    <tr>\n",
       "      <th>183967</th>\n",
       "      <td>35506</td>\n",
       "      <td>Zurab Khizanishvili</td>\n",
       "      <td>185.42</td>\n",
       "      <td>172</td>\n",
       "      <td>78.0</td>\n",
       "      <td>79.0</td>\n",
       "      <td>right</td>\n",
       "      <td>2007</td>\n",
       "      <td>2</td>\n",
       "      <td>1981</td>\n",
       "      <td>10</td>\n",
       "    </tr>\n",
       "    <tr>\n",
       "      <th>183976</th>\n",
       "      <td>39902</td>\n",
       "      <td>Zvjezdan Misimovic</td>\n",
       "      <td>180.34</td>\n",
       "      <td>176</td>\n",
       "      <td>78.0</td>\n",
       "      <td>81.0</td>\n",
       "      <td>right</td>\n",
       "      <td>2007</td>\n",
       "      <td>8</td>\n",
       "      <td>1982</td>\n",
       "      <td>6</td>\n",
       "    </tr>\n",
       "    <tr>\n",
       "      <th>183977</th>\n",
       "      <td>39902</td>\n",
       "      <td>Zvjezdan Misimovic</td>\n",
       "      <td>180.34</td>\n",
       "      <td>176</td>\n",
       "      <td>80.0</td>\n",
       "      <td>81.0</td>\n",
       "      <td>right</td>\n",
       "      <td>2007</td>\n",
       "      <td>2</td>\n",
       "      <td>1982</td>\n",
       "      <td>6</td>\n",
       "    </tr>\n",
       "  </tbody>\n",
       "</table>\n",
       "<p>16138 rows × 11 columns</p>\n",
       "</div>"
      ],
      "text/plain": [
       "        player_api_id          player_name  height  weight  overall_rating  \\\n",
       "4              505942   Aaron Appindangoye  182.88     187            61.0   \n",
       "37             155782      Aaron Cresswell  170.18     146            53.0   \n",
       "63             162549          Aaron Doran  170.18     163            59.0   \n",
       "85              30572        Aaron Galindo  182.88     198            71.0   \n",
       "86              30572        Aaron Galindo  182.88     198            71.0   \n",
       "...               ...                  ...     ...     ...             ...   \n",
       "183959          36491            Zsolt Low  180.34     154            67.0   \n",
       "183966          35506  Zurab Khizanishvili  185.42     172            75.0   \n",
       "183967          35506  Zurab Khizanishvili  185.42     172            78.0   \n",
       "183976          39902   Zvjezdan Misimovic  180.34     176            78.0   \n",
       "183977          39902   Zvjezdan Misimovic  180.34     176            80.0   \n",
       "\n",
       "        potential preferred_foot  date_year  date_month  birth_year  \\\n",
       "4            65.0          right       2007           2        1992   \n",
       "37           60.0          right       2007           2        1989   \n",
       "63           70.0          right       2007           2        1991   \n",
       "85           78.0          right       2007           8        1982   \n",
       "86           78.0          right       2007           2        1982   \n",
       "...           ...            ...        ...         ...         ...   \n",
       "183959       72.0           left       2007           2        1979   \n",
       "183966       78.0          right       2007           8        1981   \n",
       "183967       79.0          right       2007           2        1981   \n",
       "183976       81.0          right       2007           8        1982   \n",
       "183977       81.0          right       2007           2        1982   \n",
       "\n",
       "        birth_month  \n",
       "4                 2  \n",
       "37               12  \n",
       "63                5  \n",
       "85                5  \n",
       "86                5  \n",
       "...             ...  \n",
       "183959            4  \n",
       "183966           10  \n",
       "183967           10  \n",
       "183976            6  \n",
       "183977            6  \n",
       "\n",
       "[16138 rows x 11 columns]"
      ]
     },
     "execution_count": 23,
     "metadata": {},
     "output_type": "execute_result"
    }
   ],
   "source": [
    "#Select data for years 2016 and 2007 and pass to new_dataFrames\n",
    "df_2016=df[df['date_year'] == 2016]\n",
    "df_2016\n",
    "df_2007=df[df['date_year'] == 2007]\n",
    "df_2007"
   ]
  },
  {
   "cell_type": "code",
   "execution_count": 24,
   "metadata": {},
   "outputs": [
    {
     "data": {
      "text/plain": [
       "3    3368\n",
       "4    3260\n",
       "1    3239\n",
       "2    2374\n",
       "5    1381\n",
       "6     472\n",
       "7       9\n",
       "Name: date_month, dtype: int64"
      ]
     },
     "execution_count": 24,
     "metadata": {},
     "output_type": "execute_result"
    }
   ],
   "source": [
    "#Inspecting the data. We notice that there can be more than one overall rating per player due to rating being awarded\n",
    "#at different months. We further inspect the date_month column for the two years to find a basis for our analysis\n",
    "df_2016['date_month'].value_counts()"
   ]
  },
  {
   "cell_type": "code",
   "execution_count": 25,
   "metadata": {},
   "outputs": [
    {
     "data": {
      "text/plain": [
       "2    11794\n",
       "8     4344\n",
       "Name: date_month, dtype: int64"
      ]
     },
     "execution_count": 25,
     "metadata": {},
     "output_type": "execute_result"
    }
   ],
   "source": [
    "df_2007['date_month'].value_counts()"
   ]
  },
  {
   "cell_type": "code",
   "execution_count": 26,
   "metadata": {},
   "outputs": [
    {
     "name": "stderr",
     "output_type": "stream",
     "text": [
      "<ipython-input-26-b93201dfed1f>:2: UserWarning: Boolean Series key will be reindexed to match DataFrame index.\n",
      "  df_2016_final = df_2016[df['date_month']==2]\n",
      "<ipython-input-26-b93201dfed1f>:4: UserWarning: Boolean Series key will be reindexed to match DataFrame index.\n",
      "  df_2007_final = df_2007[df['date_month']==2]\n"
     ]
    },
    {
     "data": {
      "text/html": [
       "<div>\n",
       "<style scoped>\n",
       "    .dataframe tbody tr th:only-of-type {\n",
       "        vertical-align: middle;\n",
       "    }\n",
       "\n",
       "    .dataframe tbody tr th {\n",
       "        vertical-align: top;\n",
       "    }\n",
       "\n",
       "    .dataframe thead th {\n",
       "        text-align: right;\n",
       "    }\n",
       "</style>\n",
       "<table border=\"1\" class=\"dataframe\">\n",
       "  <thead>\n",
       "    <tr style=\"text-align: right;\">\n",
       "      <th></th>\n",
       "      <th>player_api_id</th>\n",
       "      <th>player_name</th>\n",
       "      <th>height</th>\n",
       "      <th>weight</th>\n",
       "      <th>overall_rating</th>\n",
       "      <th>potential</th>\n",
       "      <th>preferred_foot</th>\n",
       "      <th>date_year</th>\n",
       "      <th>date_month</th>\n",
       "      <th>birth_year</th>\n",
       "      <th>birth_month</th>\n",
       "    </tr>\n",
       "  </thead>\n",
       "  <tbody>\n",
       "    <tr>\n",
       "      <th>4</th>\n",
       "      <td>505942</td>\n",
       "      <td>Aaron Appindangoye</td>\n",
       "      <td>182.88</td>\n",
       "      <td>187</td>\n",
       "      <td>61.0</td>\n",
       "      <td>65.0</td>\n",
       "      <td>right</td>\n",
       "      <td>2007</td>\n",
       "      <td>2</td>\n",
       "      <td>1992</td>\n",
       "      <td>2</td>\n",
       "    </tr>\n",
       "    <tr>\n",
       "      <th>37</th>\n",
       "      <td>155782</td>\n",
       "      <td>Aaron Cresswell</td>\n",
       "      <td>170.18</td>\n",
       "      <td>146</td>\n",
       "      <td>53.0</td>\n",
       "      <td>60.0</td>\n",
       "      <td>right</td>\n",
       "      <td>2007</td>\n",
       "      <td>2</td>\n",
       "      <td>1989</td>\n",
       "      <td>12</td>\n",
       "    </tr>\n",
       "    <tr>\n",
       "      <th>63</th>\n",
       "      <td>162549</td>\n",
       "      <td>Aaron Doran</td>\n",
       "      <td>170.18</td>\n",
       "      <td>163</td>\n",
       "      <td>59.0</td>\n",
       "      <td>70.0</td>\n",
       "      <td>right</td>\n",
       "      <td>2007</td>\n",
       "      <td>2</td>\n",
       "      <td>1991</td>\n",
       "      <td>5</td>\n",
       "    </tr>\n",
       "    <tr>\n",
       "      <th>86</th>\n",
       "      <td>30572</td>\n",
       "      <td>Aaron Galindo</td>\n",
       "      <td>182.88</td>\n",
       "      <td>198</td>\n",
       "      <td>71.0</td>\n",
       "      <td>78.0</td>\n",
       "      <td>right</td>\n",
       "      <td>2007</td>\n",
       "      <td>2</td>\n",
       "      <td>1982</td>\n",
       "      <td>5</td>\n",
       "    </tr>\n",
       "    <tr>\n",
       "      <th>111</th>\n",
       "      <td>23780</td>\n",
       "      <td>Aaron Hughes</td>\n",
       "      <td>182.88</td>\n",
       "      <td>154</td>\n",
       "      <td>75.0</td>\n",
       "      <td>75.0</td>\n",
       "      <td>right</td>\n",
       "      <td>2007</td>\n",
       "      <td>2</td>\n",
       "      <td>1979</td>\n",
       "      <td>11</td>\n",
       "    </tr>\n",
       "    <tr>\n",
       "      <th>...</th>\n",
       "      <td>...</td>\n",
       "      <td>...</td>\n",
       "      <td>...</td>\n",
       "      <td>...</td>\n",
       "      <td>...</td>\n",
       "      <td>...</td>\n",
       "      <td>...</td>\n",
       "      <td>...</td>\n",
       "      <td>...</td>\n",
       "      <td>...</td>\n",
       "      <td>...</td>\n",
       "    </tr>\n",
       "    <tr>\n",
       "      <th>183936</th>\n",
       "      <td>26357</td>\n",
       "      <td>Zoumana Camara</td>\n",
       "      <td>182.88</td>\n",
       "      <td>168</td>\n",
       "      <td>77.0</td>\n",
       "      <td>78.0</td>\n",
       "      <td>right</td>\n",
       "      <td>2007</td>\n",
       "      <td>2</td>\n",
       "      <td>1979</td>\n",
       "      <td>4</td>\n",
       "    </tr>\n",
       "    <tr>\n",
       "      <th>183952</th>\n",
       "      <td>111182</td>\n",
       "      <td>Zsolt Laczko</td>\n",
       "      <td>182.88</td>\n",
       "      <td>176</td>\n",
       "      <td>67.0</td>\n",
       "      <td>77.0</td>\n",
       "      <td>left</td>\n",
       "      <td>2007</td>\n",
       "      <td>2</td>\n",
       "      <td>1986</td>\n",
       "      <td>12</td>\n",
       "    </tr>\n",
       "    <tr>\n",
       "      <th>183959</th>\n",
       "      <td>36491</td>\n",
       "      <td>Zsolt Low</td>\n",
       "      <td>180.34</td>\n",
       "      <td>154</td>\n",
       "      <td>67.0</td>\n",
       "      <td>72.0</td>\n",
       "      <td>left</td>\n",
       "      <td>2007</td>\n",
       "      <td>2</td>\n",
       "      <td>1979</td>\n",
       "      <td>4</td>\n",
       "    </tr>\n",
       "    <tr>\n",
       "      <th>183967</th>\n",
       "      <td>35506</td>\n",
       "      <td>Zurab Khizanishvili</td>\n",
       "      <td>185.42</td>\n",
       "      <td>172</td>\n",
       "      <td>78.0</td>\n",
       "      <td>79.0</td>\n",
       "      <td>right</td>\n",
       "      <td>2007</td>\n",
       "      <td>2</td>\n",
       "      <td>1981</td>\n",
       "      <td>10</td>\n",
       "    </tr>\n",
       "    <tr>\n",
       "      <th>183977</th>\n",
       "      <td>39902</td>\n",
       "      <td>Zvjezdan Misimovic</td>\n",
       "      <td>180.34</td>\n",
       "      <td>176</td>\n",
       "      <td>80.0</td>\n",
       "      <td>81.0</td>\n",
       "      <td>right</td>\n",
       "      <td>2007</td>\n",
       "      <td>2</td>\n",
       "      <td>1982</td>\n",
       "      <td>6</td>\n",
       "    </tr>\n",
       "  </tbody>\n",
       "</table>\n",
       "<p>11794 rows × 11 columns</p>\n",
       "</div>"
      ],
      "text/plain": [
       "        player_api_id          player_name  height  weight  overall_rating  \\\n",
       "4              505942   Aaron Appindangoye  182.88     187            61.0   \n",
       "37             155782      Aaron Cresswell  170.18     146            53.0   \n",
       "63             162549          Aaron Doran  170.18     163            59.0   \n",
       "86              30572        Aaron Galindo  182.88     198            71.0   \n",
       "111             23780         Aaron Hughes  182.88     154            75.0   \n",
       "...               ...                  ...     ...     ...             ...   \n",
       "183936          26357       Zoumana Camara  182.88     168            77.0   \n",
       "183952         111182         Zsolt Laczko  182.88     176            67.0   \n",
       "183959          36491            Zsolt Low  180.34     154            67.0   \n",
       "183967          35506  Zurab Khizanishvili  185.42     172            78.0   \n",
       "183977          39902   Zvjezdan Misimovic  180.34     176            80.0   \n",
       "\n",
       "        potential preferred_foot  date_year  date_month  birth_year  \\\n",
       "4            65.0          right       2007           2        1992   \n",
       "37           60.0          right       2007           2        1989   \n",
       "63           70.0          right       2007           2        1991   \n",
       "86           78.0          right       2007           2        1982   \n",
       "111          75.0          right       2007           2        1979   \n",
       "...           ...            ...        ...         ...         ...   \n",
       "183936       78.0          right       2007           2        1979   \n",
       "183952       77.0           left       2007           2        1986   \n",
       "183959       72.0           left       2007           2        1979   \n",
       "183967       79.0          right       2007           2        1981   \n",
       "183977       81.0          right       2007           2        1982   \n",
       "\n",
       "        birth_month  \n",
       "4                 2  \n",
       "37               12  \n",
       "63                5  \n",
       "86                5  \n",
       "111              11  \n",
       "...             ...  \n",
       "183936            4  \n",
       "183952           12  \n",
       "183959            4  \n",
       "183967           10  \n",
       "183977            6  \n",
       "\n",
       "[11794 rows x 11 columns]"
      ]
     },
     "execution_count": 26,
     "metadata": {},
     "output_type": "execute_result"
    }
   ],
   "source": [
    "#Since month 2  february is common for both years. We select data for month 2 to make our analysis easier\n",
    "df_2016_final = df_2016[df['date_month']==2]\n",
    "df_2016_final\n",
    "df_2007_final = df_2007[df['date_month']==2]\n",
    "df_2007_final"
   ]
  },
  {
   "cell_type": "code",
   "execution_count": 27,
   "metadata": {},
   "outputs": [
    {
     "data": {
      "text/plain": [
       "2    2374\n",
       "Name: date_month, dtype: int64"
      ]
     },
     "execution_count": 27,
     "metadata": {},
     "output_type": "execute_result"
    }
   ],
   "source": [
    "#check to see if date_month = 2 was dropped successfully\n",
    "df_2007_final['date_month'].value_counts()\n",
    "df_2016_final['date_month'].value_counts()"
   ]
  },
  {
   "cell_type": "code",
   "execution_count": 28,
   "metadata": {},
   "outputs": [
    {
     "name": "stdout",
     "output_type": "stream",
     "text": [
      "<class 'pandas.core.frame.DataFrame'>\n",
      "Int64Index: 11794 entries, 4 to 183977\n",
      "Data columns (total 11 columns):\n",
      " #   Column          Non-Null Count  Dtype  \n",
      "---  ------          --------------  -----  \n",
      " 0   player_api_id   11794 non-null  int64  \n",
      " 1   player_name     11794 non-null  object \n",
      " 2   height          11794 non-null  float64\n",
      " 3   weight          11794 non-null  int64  \n",
      " 4   overall_rating  11059 non-null  float64\n",
      " 5   potential       11059 non-null  float64\n",
      " 6   preferred_foot  11059 non-null  object \n",
      " 7   date_year       11794 non-null  int64  \n",
      " 8   date_month      11794 non-null  int64  \n",
      " 9   birth_year      11794 non-null  int64  \n",
      " 10  birth_month     11794 non-null  int64  \n",
      "dtypes: float64(3), int64(6), object(2)\n",
      "memory usage: 1.1+ MB\n"
     ]
    }
   ],
   "source": [
    "#Now we check our data for consistency\n",
    "df_2007_final.info()"
   ]
  },
  {
   "cell_type": "code",
   "execution_count": 29,
   "metadata": {},
   "outputs": [
    {
     "name": "stdout",
     "output_type": "stream",
     "text": [
      "<class 'pandas.core.frame.DataFrame'>\n",
      "Int64Index: 2374 entries, 0 to 183903\n",
      "Data columns (total 11 columns):\n",
      " #   Column          Non-Null Count  Dtype  \n",
      "---  ------          --------------  -----  \n",
      " 0   player_api_id   2374 non-null   int64  \n",
      " 1   player_name     2374 non-null   object \n",
      " 2   height          2374 non-null   float64\n",
      " 3   weight          2374 non-null   int64  \n",
      " 4   overall_rating  2373 non-null   float64\n",
      " 5   potential       2373 non-null   float64\n",
      " 6   preferred_foot  2373 non-null   object \n",
      " 7   date_year       2374 non-null   int64  \n",
      " 8   date_month      2374 non-null   int64  \n",
      " 9   birth_year      2374 non-null   int64  \n",
      " 10  birth_month     2374 non-null   int64  \n",
      "dtypes: float64(3), int64(6), object(2)\n",
      "memory usage: 222.6+ KB\n"
     ]
    }
   ],
   "source": [
    "df_2016_final.info()"
   ]
  },
  {
   "cell_type": "code",
   "execution_count": 30,
   "metadata": {},
   "outputs": [
    {
     "name": "stdout",
     "output_type": "stream",
     "text": [
      "<class 'pandas.core.frame.DataFrame'>\n",
      "Int64Index: 2374 entries, 0 to 2373\n",
      "Data columns (total 14 columns):\n",
      " #   Column            Non-Null Count  Dtype  \n",
      "---  ------            --------------  -----  \n",
      " 0   player_api_id     2374 non-null   int64  \n",
      " 1   player_name       2374 non-null   object \n",
      " 2   height            2374 non-null   float64\n",
      " 3   weight            2374 non-null   int64  \n",
      " 4   overall_rating_x  2373 non-null   float64\n",
      " 5   potential_x       2373 non-null   float64\n",
      " 6   preferred_foot    2373 non-null   object \n",
      " 7   date_year_x       2374 non-null   int64  \n",
      " 8   date_month        2374 non-null   int64  \n",
      " 9   birth_year        2374 non-null   int64  \n",
      " 10  birth_month       2374 non-null   int64  \n",
      " 11  overall_rating_y  2126 non-null   float64\n",
      " 12  potential_y       2126 non-null   float64\n",
      " 13  date_year_y       2127 non-null   float64\n",
      "dtypes: float64(6), int64(6), object(2)\n",
      "memory usage: 278.2+ KB\n"
     ]
    }
   ],
   "source": [
    "#merge datasets with common attributes\n",
    "df_combined = df_2016_final.merge(df_2007_final, on=['player_api_id','player_name','height','weight','preferred_foot','birth_year','birth_month','date_month'], how='left')\n",
    "df_combined.info()"
   ]
  },
  {
   "cell_type": "code",
   "execution_count": 31,
   "metadata": {},
   "outputs": [
    {
     "data": {
      "text/plain": [
       "player_api_id         0\n",
       "player_name           0\n",
       "height                0\n",
       "weight                0\n",
       "overall_rating_x      1\n",
       "potential_x           1\n",
       "preferred_foot        1\n",
       "date_year_x           0\n",
       "date_month            0\n",
       "birth_year            0\n",
       "birth_month           0\n",
       "overall_rating_y    248\n",
       "potential_y         248\n",
       "date_year_y         247\n",
       "dtype: int64"
      ]
     },
     "execution_count": 31,
     "metadata": {},
     "output_type": "execute_result"
    }
   ],
   "source": [
    "#the value_counts() method gives us the idea that missing values are present since the row counts are \n",
    "#unequal. We ncheck for number of missing values\n",
    "df_combined.isna().sum()"
   ]
  },
  {
   "cell_type": "code",
   "execution_count": 32,
   "metadata": {},
   "outputs": [
    {
     "data": {
      "text/plain": [
       "player_api_id       0\n",
       "player_name         0\n",
       "height              0\n",
       "weight              0\n",
       "overall_rating_x    0\n",
       "potential_x         0\n",
       "preferred_foot      0\n",
       "date_year_x         0\n",
       "date_month          0\n",
       "birth_year          0\n",
       "birth_month         0\n",
       "overall_rating_y    0\n",
       "potential_y         0\n",
       "date_year_y         0\n",
       "dtype: int64"
      ]
     },
     "execution_count": 32,
     "metadata": {},
     "output_type": "execute_result"
    }
   ],
   "source": [
    "#we drop all missing values\n",
    "df_combined.dropna(inplace=True)\n",
    "#check if our method works\\\n",
    "df_combined.isna().sum()"
   ]
  },
  {
   "cell_type": "code",
   "execution_count": 33,
   "metadata": {},
   "outputs": [
    {
     "name": "stdout",
     "output_type": "stream",
     "text": [
      "<class 'pandas.core.frame.DataFrame'>\n",
      "Int64Index: 2126 entries, 0 to 2373\n",
      "Data columns (total 14 columns):\n",
      " #   Column            Non-Null Count  Dtype  \n",
      "---  ------            --------------  -----  \n",
      " 0   player_api_id     2126 non-null   int64  \n",
      " 1   player_name       2126 non-null   object \n",
      " 2   height            2126 non-null   float64\n",
      " 3   weight            2126 non-null   int64  \n",
      " 4   overall_rating_x  2126 non-null   float64\n",
      " 5   potential_x       2126 non-null   float64\n",
      " 6   preferred_foot    2126 non-null   object \n",
      " 7   date_year_x       2126 non-null   int64  \n",
      " 8   date_month        2126 non-null   int64  \n",
      " 9   birth_year        2126 non-null   int64  \n",
      " 10  birth_month       2126 non-null   int64  \n",
      " 11  overall_rating_y  2126 non-null   float64\n",
      " 12  potential_y       2126 non-null   float64\n",
      " 13  date_year_y       2126 non-null   float64\n",
      "dtypes: float64(6), int64(6), object(2)\n",
      "memory usage: 249.1+ KB\n"
     ]
    }
   ],
   "source": [
    "df_combined.info()"
   ]
  },
  {
   "cell_type": "code",
   "execution_count": 34,
   "metadata": {},
   "outputs": [
    {
     "data": {
      "text/html": [
       "<div>\n",
       "<style scoped>\n",
       "    .dataframe tbody tr th:only-of-type {\n",
       "        vertical-align: middle;\n",
       "    }\n",
       "\n",
       "    .dataframe tbody tr th {\n",
       "        vertical-align: top;\n",
       "    }\n",
       "\n",
       "    .dataframe thead th {\n",
       "        text-align: right;\n",
       "    }\n",
       "</style>\n",
       "<table border=\"1\" class=\"dataframe\">\n",
       "  <thead>\n",
       "    <tr style=\"text-align: right;\">\n",
       "      <th></th>\n",
       "      <th>player_api_id</th>\n",
       "      <th>player_name</th>\n",
       "      <th>height</th>\n",
       "      <th>weight</th>\n",
       "      <th>overall_rating_2016</th>\n",
       "      <th>potential_2016</th>\n",
       "      <th>preferred_foot</th>\n",
       "      <th>birth_year</th>\n",
       "      <th>birth_month</th>\n",
       "      <th>overall_rating_2007</th>\n",
       "      <th>potential_2007</th>\n",
       "    </tr>\n",
       "  </thead>\n",
       "  <tbody>\n",
       "    <tr>\n",
       "      <th>0</th>\n",
       "      <td>505942</td>\n",
       "      <td>Aaron Appindangoye</td>\n",
       "      <td>182.88</td>\n",
       "      <td>187</td>\n",
       "      <td>67.0</td>\n",
       "      <td>71.0</td>\n",
       "      <td>right</td>\n",
       "      <td>1992</td>\n",
       "      <td>2</td>\n",
       "      <td>61.0</td>\n",
       "      <td>65.0</td>\n",
       "    </tr>\n",
       "    <tr>\n",
       "      <th>1</th>\n",
       "      <td>27316</td>\n",
       "      <td>Aaron Hunt</td>\n",
       "      <td>182.88</td>\n",
       "      <td>161</td>\n",
       "      <td>77.0</td>\n",
       "      <td>77.0</td>\n",
       "      <td>left</td>\n",
       "      <td>1986</td>\n",
       "      <td>9</td>\n",
       "      <td>73.0</td>\n",
       "      <td>80.0</td>\n",
       "    </tr>\n",
       "    <tr>\n",
       "      <th>2</th>\n",
       "      <td>564793</td>\n",
       "      <td>Aaron Kuhl</td>\n",
       "      <td>172.72</td>\n",
       "      <td>146</td>\n",
       "      <td>61.0</td>\n",
       "      <td>75.0</td>\n",
       "      <td>right</td>\n",
       "      <td>1996</td>\n",
       "      <td>1</td>\n",
       "      <td>60.0</td>\n",
       "      <td>77.0</td>\n",
       "    </tr>\n",
       "    <tr>\n",
       "      <th>3</th>\n",
       "      <td>528212</td>\n",
       "      <td>Aaron Lennox</td>\n",
       "      <td>190.50</td>\n",
       "      <td>181</td>\n",
       "      <td>48.0</td>\n",
       "      <td>56.0</td>\n",
       "      <td>right</td>\n",
       "      <td>1993</td>\n",
       "      <td>2</td>\n",
       "      <td>48.0</td>\n",
       "      <td>57.0</td>\n",
       "    </tr>\n",
       "    <tr>\n",
       "      <th>4</th>\n",
       "      <td>231592</td>\n",
       "      <td>Aaron Mooy</td>\n",
       "      <td>175.26</td>\n",
       "      <td>150</td>\n",
       "      <td>75.0</td>\n",
       "      <td>78.0</td>\n",
       "      <td>right</td>\n",
       "      <td>1990</td>\n",
       "      <td>9</td>\n",
       "      <td>60.0</td>\n",
       "      <td>67.0</td>\n",
       "    </tr>\n",
       "  </tbody>\n",
       "</table>\n",
       "</div>"
      ],
      "text/plain": [
       "   player_api_id         player_name  height  weight  overall_rating_2016  \\\n",
       "0         505942  Aaron Appindangoye  182.88     187                 67.0   \n",
       "1          27316          Aaron Hunt  182.88     161                 77.0   \n",
       "2         564793          Aaron Kuhl  172.72     146                 61.0   \n",
       "3         528212        Aaron Lennox  190.50     181                 48.0   \n",
       "4         231592          Aaron Mooy  175.26     150                 75.0   \n",
       "\n",
       "   potential_2016 preferred_foot  birth_year  birth_month  \\\n",
       "0            71.0          right        1992            2   \n",
       "1            77.0           left        1986            9   \n",
       "2            75.0          right        1996            1   \n",
       "3            56.0          right        1993            2   \n",
       "4            78.0          right        1990            9   \n",
       "\n",
       "   overall_rating_2007  potential_2007  \n",
       "0                 61.0            65.0  \n",
       "1                 73.0            80.0  \n",
       "2                 60.0            77.0  \n",
       "3                 48.0            57.0  \n",
       "4                 60.0            67.0  "
      ]
     },
     "execution_count": 34,
     "metadata": {},
     "output_type": "execute_result"
    }
   ],
   "source": [
    "#rename columns, drop date_month column and change data types. We don't need date month columns anymore since all the data is for february i.e 2\n",
    "df_combined.drop(['date_month','date_year_x','date_year_y'], axis=1, inplace=True)\n",
    "df_combined.rename(columns={'overall_rating_x':'overall_rating_2016','overall_rating_y':'overall_rating_2007', 'potential_x':'potential_2016', 'potential_y':'potential_2007'}, inplace=True)\n",
    "df_combined.head()"
   ]
  },
  {
   "cell_type": "code",
   "execution_count": 35,
   "metadata": {},
   "outputs": [
    {
     "data": {
      "text/plain": [
       "205"
      ]
     },
     "execution_count": 35,
     "metadata": {},
     "output_type": "execute_result"
    }
   ],
   "source": [
    "#check for duplicates\n",
    "df_combined.duplicated().sum()"
   ]
  },
  {
   "cell_type": "code",
   "execution_count": 36,
   "metadata": {},
   "outputs": [
    {
     "data": {
      "text/plain": [
       "0"
      ]
     },
     "execution_count": 36,
     "metadata": {},
     "output_type": "execute_result"
    }
   ],
   "source": [
    "#remove duplicates\n",
    "df_combined.drop_duplicates(inplace=True)\n",
    "df_combined.duplicated().sum()"
   ]
  },
  {
   "cell_type": "code",
   "execution_count": 37,
   "metadata": {},
   "outputs": [
    {
     "name": "stdout",
     "output_type": "stream",
     "text": [
      "<class 'pandas.core.frame.DataFrame'>\n",
      "Int64Index: 1921 entries, 0 to 2373\n",
      "Data columns (total 11 columns):\n",
      " #   Column               Non-Null Count  Dtype  \n",
      "---  ------               --------------  -----  \n",
      " 0   player_api_id        1921 non-null   int64  \n",
      " 1   player_name          1921 non-null   object \n",
      " 2   height               1921 non-null   float64\n",
      " 3   weight               1921 non-null   int64  \n",
      " 4   overall_rating_2016  1921 non-null   float64\n",
      " 5   potential_2016       1921 non-null   float64\n",
      " 6   preferred_foot       1921 non-null   object \n",
      " 7   birth_year           1921 non-null   int64  \n",
      " 8   birth_month          1921 non-null   int64  \n",
      " 9   overall_rating_2007  1921 non-null   float64\n",
      " 10  potential_2007       1921 non-null   float64\n",
      "dtypes: float64(5), int64(4), object(2)\n",
      "memory usage: 180.1+ KB\n"
     ]
    }
   ],
   "source": [
    "df_combined.info()"
   ]
  },
  {
   "cell_type": "code",
   "execution_count": 38,
   "metadata": {},
   "outputs": [
    {
     "data": {
      "text/html": [
       "<div>\n",
       "<style scoped>\n",
       "    .dataframe tbody tr th:only-of-type {\n",
       "        vertical-align: middle;\n",
       "    }\n",
       "\n",
       "    .dataframe tbody tr th {\n",
       "        vertical-align: top;\n",
       "    }\n",
       "\n",
       "    .dataframe thead th {\n",
       "        text-align: right;\n",
       "    }\n",
       "</style>\n",
       "<table border=\"1\" class=\"dataframe\">\n",
       "  <thead>\n",
       "    <tr style=\"text-align: right;\">\n",
       "      <th></th>\n",
       "      <th>player_api_id</th>\n",
       "      <th>height</th>\n",
       "      <th>weight</th>\n",
       "      <th>overall_rating_2016</th>\n",
       "      <th>potential_2016</th>\n",
       "      <th>birth_year</th>\n",
       "      <th>birth_month</th>\n",
       "      <th>overall_rating_2007</th>\n",
       "      <th>potential_2007</th>\n",
       "    </tr>\n",
       "  </thead>\n",
       "  <tbody>\n",
       "    <tr>\n",
       "      <th>count</th>\n",
       "      <td>1921.000000</td>\n",
       "      <td>1921.000000</td>\n",
       "      <td>1921.000000</td>\n",
       "      <td>1921.000000</td>\n",
       "      <td>1921.000000</td>\n",
       "      <td>1921.000000</td>\n",
       "      <td>1921.000000</td>\n",
       "      <td>1921.000000</td>\n",
       "      <td>1921.000000</td>\n",
       "    </tr>\n",
       "    <tr>\n",
       "      <th>mean</th>\n",
       "      <td>223838.122332</td>\n",
       "      <td>181.933285</td>\n",
       "      <td>167.931806</td>\n",
       "      <td>69.780843</td>\n",
       "      <td>73.593961</td>\n",
       "      <td>1989.445601</td>\n",
       "      <td>5.746486</td>\n",
       "      <td>61.736596</td>\n",
       "      <td>71.990109</td>\n",
       "    </tr>\n",
       "    <tr>\n",
       "      <th>std</th>\n",
       "      <td>187361.663153</td>\n",
       "      <td>6.303563</td>\n",
       "      <td>14.790764</td>\n",
       "      <td>6.159543</td>\n",
       "      <td>5.931172</td>\n",
       "      <td>4.409776</td>\n",
       "      <td>3.537709</td>\n",
       "      <td>7.598339</td>\n",
       "      <td>7.515983</td>\n",
       "    </tr>\n",
       "    <tr>\n",
       "      <th>min</th>\n",
       "      <td>5016.000000</td>\n",
       "      <td>162.560000</td>\n",
       "      <td>126.000000</td>\n",
       "      <td>48.000000</td>\n",
       "      <td>54.000000</td>\n",
       "      <td>1975.000000</td>\n",
       "      <td>1.000000</td>\n",
       "      <td>38.000000</td>\n",
       "      <td>45.000000</td>\n",
       "    </tr>\n",
       "    <tr>\n",
       "      <th>25%</th>\n",
       "      <td>49847.000000</td>\n",
       "      <td>177.800000</td>\n",
       "      <td>159.000000</td>\n",
       "      <td>66.000000</td>\n",
       "      <td>70.000000</td>\n",
       "      <td>1986.000000</td>\n",
       "      <td>2.000000</td>\n",
       "      <td>57.000000</td>\n",
       "      <td>67.000000</td>\n",
       "    </tr>\n",
       "    <tr>\n",
       "      <th>50%</th>\n",
       "      <td>179083.000000</td>\n",
       "      <td>182.880000</td>\n",
       "      <td>168.000000</td>\n",
       "      <td>70.000000</td>\n",
       "      <td>74.000000</td>\n",
       "      <td>1990.000000</td>\n",
       "      <td>5.000000</td>\n",
       "      <td>61.000000</td>\n",
       "      <td>72.000000</td>\n",
       "    </tr>\n",
       "    <tr>\n",
       "      <th>75%</th>\n",
       "      <td>311008.000000</td>\n",
       "      <td>185.420000</td>\n",
       "      <td>176.000000</td>\n",
       "      <td>74.000000</td>\n",
       "      <td>78.000000</td>\n",
       "      <td>1993.000000</td>\n",
       "      <td>9.000000</td>\n",
       "      <td>66.000000</td>\n",
       "      <td>77.000000</td>\n",
       "    </tr>\n",
       "    <tr>\n",
       "      <th>max</th>\n",
       "      <td>750435.000000</td>\n",
       "      <td>203.200000</td>\n",
       "      <td>218.000000</td>\n",
       "      <td>90.000000</td>\n",
       "      <td>94.000000</td>\n",
       "      <td>1999.000000</td>\n",
       "      <td>12.000000</td>\n",
       "      <td>88.000000</td>\n",
       "      <td>93.000000</td>\n",
       "    </tr>\n",
       "  </tbody>\n",
       "</table>\n",
       "</div>"
      ],
      "text/plain": [
       "       player_api_id       height       weight  overall_rating_2016  \\\n",
       "count    1921.000000  1921.000000  1921.000000          1921.000000   \n",
       "mean   223838.122332   181.933285   167.931806            69.780843   \n",
       "std    187361.663153     6.303563    14.790764             6.159543   \n",
       "min      5016.000000   162.560000   126.000000            48.000000   \n",
       "25%     49847.000000   177.800000   159.000000            66.000000   \n",
       "50%    179083.000000   182.880000   168.000000            70.000000   \n",
       "75%    311008.000000   185.420000   176.000000            74.000000   \n",
       "max    750435.000000   203.200000   218.000000            90.000000   \n",
       "\n",
       "       potential_2016   birth_year  birth_month  overall_rating_2007  \\\n",
       "count     1921.000000  1921.000000  1921.000000          1921.000000   \n",
       "mean        73.593961  1989.445601     5.746486            61.736596   \n",
       "std          5.931172     4.409776     3.537709             7.598339   \n",
       "min         54.000000  1975.000000     1.000000            38.000000   \n",
       "25%         70.000000  1986.000000     2.000000            57.000000   \n",
       "50%         74.000000  1990.000000     5.000000            61.000000   \n",
       "75%         78.000000  1993.000000     9.000000            66.000000   \n",
       "max         94.000000  1999.000000    12.000000            88.000000   \n",
       "\n",
       "       potential_2007  \n",
       "count     1921.000000  \n",
       "mean        71.990109  \n",
       "std          7.515983  \n",
       "min         45.000000  \n",
       "25%         67.000000  \n",
       "50%         72.000000  \n",
       "75%         77.000000  \n",
       "max         93.000000  "
      ]
     },
     "execution_count": 38,
     "metadata": {},
     "output_type": "execute_result"
    }
   ],
   "source": [
    "#We try to understand our cleaned up data\n",
    "df_combined.describe()"
   ]
  },
  {
   "cell_type": "code",
   "execution_count": null,
   "metadata": {},
   "outputs": [],
   "source": []
  },
  {
   "cell_type": "markdown",
   "metadata": {},
   "source": [
    "<a id='eda'></a>\n",
    "## Exploratory Data Analysis\n",
    "\n",
    "### Research Question 1 (Do players born in a specific month or year have better overall rating? "
   ]
  },
  {
   "cell_type": "code",
   "execution_count": null,
   "metadata": {
    "collapsed": true
   },
   "outputs": [],
   "source": [
    "#First before answering any questions, I like to look at the heat map for correlations"
   ]
  },
  {
   "cell_type": "code",
   "execution_count": 44,
   "metadata": {},
   "outputs": [
    {
     "data": {
      "text/plain": [
       "[Text(0.5, 1.0, 'Correlation Plot')]"
      ]
     },
     "execution_count": 44,
     "metadata": {},
     "output_type": "execute_result"
    },
    {
     "data": {
      "image/png": "[encoded data removed]",
      "text/plain": [
       "<Figure size 432x288 with 2 Axes>"
      ]
     },
     "metadata": {
      "needs_background": "light"
     },
     "output_type": "display_data"
    }
   ],
   "source": [
    "sns.heatmap(df_combined.corr()).set(title='Correlation Plot')\n",
    "#It appears that a few correlation exist in our database. For example, potential seems to correlate with overall ratings"
   ]
  },
  {
   "cell_type": "markdown",
   "metadata": {},
   "source": [
    "It appears that a few correlation exist in our database. For example, potential seems to correlate with overall ratings and weight and height seem to have some correlation"
   ]
  },
  {
   "cell_type": "code",
   "execution_count": 45,
   "metadata": {},
   "outputs": [
    {
     "data": {
      "text/html": [
       "<div>\n",
       "<style scoped>\n",
       "    .dataframe tbody tr th:only-of-type {\n",
       "        vertical-align: middle;\n",
       "    }\n",
       "\n",
       "    .dataframe tbody tr th {\n",
       "        vertical-align: top;\n",
       "    }\n",
       "\n",
       "    .dataframe thead th {\n",
       "        text-align: right;\n",
       "    }\n",
       "</style>\n",
       "<table border=\"1\" class=\"dataframe\">\n",
       "  <thead>\n",
       "    <tr style=\"text-align: right;\">\n",
       "      <th></th>\n",
       "      <th>player_api_id</th>\n",
       "      <th>player_name</th>\n",
       "      <th>height</th>\n",
       "      <th>weight</th>\n",
       "      <th>overall_rating_2016</th>\n",
       "      <th>potential_2016</th>\n",
       "      <th>preferred_foot</th>\n",
       "      <th>birth_year</th>\n",
       "      <th>birth_month</th>\n",
       "      <th>overall_rating_2007</th>\n",
       "      <th>potential_2007</th>\n",
       "    </tr>\n",
       "  </thead>\n",
       "  <tbody>\n",
       "    <tr>\n",
       "      <th>0</th>\n",
       "      <td>505942</td>\n",
       "      <td>Aaron Appindangoye</td>\n",
       "      <td>182.88</td>\n",
       "      <td>187</td>\n",
       "      <td>67.0</td>\n",
       "      <td>71.0</td>\n",
       "      <td>right</td>\n",
       "      <td>1992</td>\n",
       "      <td>2</td>\n",
       "      <td>61.0</td>\n",
       "      <td>65.0</td>\n",
       "    </tr>\n",
       "    <tr>\n",
       "      <th>1</th>\n",
       "      <td>27316</td>\n",
       "      <td>Aaron Hunt</td>\n",
       "      <td>182.88</td>\n",
       "      <td>161</td>\n",
       "      <td>77.0</td>\n",
       "      <td>77.0</td>\n",
       "      <td>left</td>\n",
       "      <td>1986</td>\n",
       "      <td>9</td>\n",
       "      <td>73.0</td>\n",
       "      <td>80.0</td>\n",
       "    </tr>\n",
       "    <tr>\n",
       "      <th>2</th>\n",
       "      <td>564793</td>\n",
       "      <td>Aaron Kuhl</td>\n",
       "      <td>172.72</td>\n",
       "      <td>146</td>\n",
       "      <td>61.0</td>\n",
       "      <td>75.0</td>\n",
       "      <td>right</td>\n",
       "      <td>1996</td>\n",
       "      <td>1</td>\n",
       "      <td>60.0</td>\n",
       "      <td>77.0</td>\n",
       "    </tr>\n",
       "    <tr>\n",
       "      <th>3</th>\n",
       "      <td>528212</td>\n",
       "      <td>Aaron Lennox</td>\n",
       "      <td>190.50</td>\n",
       "      <td>181</td>\n",
       "      <td>48.0</td>\n",
       "      <td>56.0</td>\n",
       "      <td>right</td>\n",
       "      <td>1993</td>\n",
       "      <td>2</td>\n",
       "      <td>48.0</td>\n",
       "      <td>57.0</td>\n",
       "    </tr>\n",
       "    <tr>\n",
       "      <th>4</th>\n",
       "      <td>231592</td>\n",
       "      <td>Aaron Mooy</td>\n",
       "      <td>175.26</td>\n",
       "      <td>150</td>\n",
       "      <td>75.0</td>\n",
       "      <td>78.0</td>\n",
       "      <td>right</td>\n",
       "      <td>1990</td>\n",
       "      <td>9</td>\n",
       "      <td>60.0</td>\n",
       "      <td>67.0</td>\n",
       "    </tr>\n",
       "  </tbody>\n",
       "</table>\n",
       "</div>"
      ],
      "text/plain": [
       "   player_api_id         player_name  height  weight  overall_rating_2016  \\\n",
       "0         505942  Aaron Appindangoye  182.88     187                 67.0   \n",
       "1          27316          Aaron Hunt  182.88     161                 77.0   \n",
       "2         564793          Aaron Kuhl  172.72     146                 61.0   \n",
       "3         528212        Aaron Lennox  190.50     181                 48.0   \n",
       "4         231592          Aaron Mooy  175.26     150                 75.0   \n",
       "\n",
       "   potential_2016 preferred_foot  birth_year  birth_month  \\\n",
       "0            71.0          right        1992            2   \n",
       "1            77.0           left        1986            9   \n",
       "2            75.0          right        1996            1   \n",
       "3            56.0          right        1993            2   \n",
       "4            78.0          right        1990            9   \n",
       "\n",
       "   overall_rating_2007  potential_2007  \n",
       "0                 61.0            65.0  \n",
       "1                 73.0            80.0  \n",
       "2                 60.0            77.0  \n",
       "3                 48.0            57.0  \n",
       "4                 60.0            67.0  "
      ]
     },
     "execution_count": 45,
     "metadata": {},
     "output_type": "execute_result"
    }
   ],
   "source": [
    "df_combined.head()"
   ]
  },
  {
   "cell_type": "code",
   "execution_count": 46,
   "metadata": {},
   "outputs": [
    {
     "data": {
      "text/plain": [
       "<AxesSubplot:title={'center':'Distribution of Left versus Right Footed players'}, ylabel='preferred_foot'>"
      ]
     },
     "execution_count": 46,
     "metadata": {},
     "output_type": "execute_result"
    },
    {
     "data": {
      "image/png": "[encoded data removed]",
      "text/plain": [
       "<Figure size 432x288 with 1 Axes>"
      ]
     },
     "metadata": {},
     "output_type": "display_data"
    }
   ],
   "source": [
    "#Distribution of left-footed and right-footed players\n",
    "df_combined['preferred_foot'].value_counts().plot(kind='pie', title='Distribution of Left versus Right Footed players')"
   ]
  },
  {
   "cell_type": "markdown",
   "metadata": {},
   "source": [
    "There appears to be more right footed players than left footed ones "
   ]
  },
  {
   "cell_type": "code",
   "execution_count": 47,
   "metadata": {},
   "outputs": [
    {
     "data": {
      "text/plain": [
       "203.2"
      ]
     },
     "execution_count": 47,
     "metadata": {},
     "output_type": "execute_result"
    }
   ],
   "source": [
    "#The maximum height of players\n",
    "df_combined['height'].max()"
   ]
  },
  {
   "cell_type": "code",
   "execution_count": 48,
   "metadata": {},
   "outputs": [
    {
     "data": {
      "text/plain": [
       "2251    Vanja Milinkovic-Savic\n",
       "Name: player_name, dtype: object"
      ]
     },
     "execution_count": 48,
     "metadata": {},
     "output_type": "execute_result"
    }
   ],
   "source": [
    "#Tallest player\n",
    "df_combined[df_combined['height']==df_combined['height'].max()].player_name"
   ]
  },
  {
   "cell_type": "code",
   "execution_count": 49,
   "metadata": {},
   "outputs": [
    {
     "data": {
      "text/plain": [
       "162.56"
      ]
     },
     "execution_count": 49,
     "metadata": {},
     "output_type": "execute_result"
    }
   ],
   "source": [
    "#The minimum height of players\n",
    "df_combined['height'].min()"
   ]
  },
  {
   "cell_type": "code",
   "execution_count": 50,
   "metadata": {},
   "outputs": [
    {
     "data": {
      "text/plain": [
       "221      Bakari Kone\n",
       "1767    Pablo Piatti\n",
       "Name: player_name, dtype: object"
      ]
     },
     "execution_count": 50,
     "metadata": {},
     "output_type": "execute_result"
    }
   ],
   "source": [
    "#Shortest player\n",
    "df_combined[df_combined['height']==df_combined['height'].min()].player_name"
   ]
  },
  {
   "cell_type": "code",
   "execution_count": 51,
   "metadata": {},
   "outputs": [
    {
     "data": {
      "text/plain": [
       "1251    Lamine Kone\n",
       "Name: player_name, dtype: object"
      ]
     },
     "execution_count": 51,
     "metadata": {},
     "output_type": "execute_result"
    }
   ],
   "source": [
    "#Most Improved player rating from 2007 to 2016\n",
    "df_combined['difference']=df_combined['overall_rating_2016'] - df_combined['overall_rating_2007']\n",
    "df_combined[df_combined['difference']==df_combined['difference'].max()].player_name"
   ]
  },
  {
   "cell_type": "code",
   "execution_count": 52,
   "metadata": {},
   "outputs": [
    {
     "data": {
      "text/plain": [
       "1684    Neymar\n",
       "Name: player_name, dtype: object"
      ]
     },
     "execution_count": 52,
     "metadata": {},
     "output_type": "execute_result"
    }
   ],
   "source": [
    "#Player with the most potential in 2016\n",
    "df_combined[df_combined['potential_2016']==df_combined['potential_2016'].max()].player_name"
   ]
  },
  {
   "cell_type": "code",
   "execution_count": 67,
   "metadata": {},
   "outputs": [
    {
     "data": {
      "text/plain": [
       "<AxesSubplot:title={'center':'Distribution of players by birth month'}, ylabel='Frequency'>"
      ]
     },
     "execution_count": 67,
     "metadata": {},
     "output_type": "execute_result"
    },
    {
     "data": {
      "image/png": "[encoded data removed]",
      "text/plain": [
       "<Figure size 432x288 with 1 Axes>"
      ]
     },
     "metadata": {
      "needs_background": "light"
     },
     "output_type": "display_data"
    }
   ],
   "source": [
    "df_combined['birth_month'].plot(kind='hist', title='Distribution of players by birth month')\n",
    "#The month of february,2 has the highest number of players"
   ]
  },
  {
   "cell_type": "markdown",
   "metadata": {},
   "source": [
    "The month of february has the highest number of player births with about 500 births"
   ]
  },
  {
   "cell_type": "code",
   "execution_count": 90,
   "metadata": {},
   "outputs": [
    {
     "data": {
      "text/plain": [
       "<matplotlib.legend.Legend at 0x205aaa6a550>"
      ]
     },
     "execution_count": 90,
     "metadata": {},
     "output_type": "execute_result"
    },
    {
     "data": {
      "image/png": "[encoded data removed]",
      "text/plain": [
       "<Figure size 432x288 with 1 Axes>"
      ]
     },
     "metadata": {
      "needs_background": "light"
     },
     "output_type": "display_data"
    }
   ],
   "source": [
    "ax1=df_combined.groupby('birth_month')['overall_rating_2016'].mean().plot(kind='bar', color='red')\n",
    "df_combined.groupby('birth_month')['overall_rating_2007'].mean().plot(kind='bar',ax=ax1,title='Distribution of ratings by month',ylabel='Ratings')\n",
    "ax1.legend(['2016','2007'], bbox_to_anchor=(1.0, 1.0))"
   ]
  },
  {
   "cell_type": "markdown",
   "metadata": {},
   "source": [
    "The distribution of birth months against ratings seems about equal. There is no significant difference although Players seem to have general overall rating in 2016. This could be true as players are known to get better with time(although not all players). More data on players will be needed for further analysis"
   ]
  },
  {
   "cell_type": "code",
   "execution_count": 115,
   "metadata": {},
   "outputs": [
    {
     "data": {
      "text/plain": [
       "<AxesSubplot:title={'center':'Distribution of Birth Years'}, ylabel='Frequency'>"
      ]
     },
     "execution_count": 115,
     "metadata": {},
     "output_type": "execute_result"
    },
    {
     "data": {
      "image/png": "[encoded data removed]",
      "text/plain": [
       "<Figure size 432x288 with 1 Axes>"
      ]
     },
     "metadata": {
      "needs_background": "light"
     },
     "output_type": "display_data"
    }
   ],
   "source": [
    "df_combined['birth_year'].plot(kind='hist', title='Distribution of Birth Years', xlabel='Years')\n",
    "#Distribution of birth_year is slightly skewed to the left"
   ]
  },
  {
   "cell_type": "markdown",
   "metadata": {},
   "source": [
    "The distribution of players birth years appears to be slightly skewed to the left"
   ]
  },
  {
   "cell_type": "code",
   "execution_count": 92,
   "metadata": {},
   "outputs": [
    {
     "data": {
      "text/plain": [
       "<matplotlib.legend.Legend at 0x205aaba0190>"
      ]
     },
     "execution_count": 92,
     "metadata": {},
     "output_type": "execute_result"
    },
    {
     "data": {
      "image/png": "[encoded data removed]",
      "text/plain": [
       "<Figure size 432x288 with 1 Axes>"
      ]
     },
     "metadata": {
      "needs_background": "light"
     },
     "output_type": "display_data"
    }
   ],
   "source": [
    "ax1=df_combined.groupby('birth_year')['overall_rating_2016'].mean().plot(kind='bar', color='red')\n",
    "df_combined.groupby('birth_year')['overall_rating_2007'].mean().plot(kind='bar',ax=ax1,title='Distribution of ratings by Year',ylabel='Ratings')\n",
    "ax1.legend(['2016','2007'], bbox_to_anchor=(1.0, 1.0))\n",
    "#Ratings seem to drop off for 2007 with time while for 2016 it is slightly balanced"
   ]
  },
  {
   "cell_type": "markdown",
   "metadata": {},
   "source": [
    "Ratings seem to drop off for year 2007 with time while for 2016 it drops off slightly but a bit balanced"
   ]
  },
  {
   "cell_type": "code",
   "execution_count": 113,
   "metadata": {},
   "outputs": [
    {
     "data": {
      "text/plain": [
       "Text(0, 0.5, 'Overall Ratings')"
      ]
     },
     "execution_count": 113,
     "metadata": {},
     "output_type": "execute_result"
    },
    {
     "data": {
      "image/png": "[encoded data removed]",
      "text/plain": [
       "<Figure size 432x288 with 1 Axes>"
      ]
     },
     "metadata": {
      "needs_background": "light"
     },
     "output_type": "display_data"
    }
   ],
   "source": [
    "ax1=df_combined.plot(x='birth_year',y='overall_rating_2007',kind='scatter', color='green')\n",
    "df_combined.plot(kind='scatter',ax=ax1,x='birth_year',y='overall_rating_2016', title='Ratings Vs Birth Year')\n",
    "ax1.legend(['2007','2016'], bbox_to_anchor=(1.0, 1.0))\n",
    "ax1.set_ylabel('Overall Ratings')\n",
    "#There seems to be no correlation"
   ]
  },
  {
   "cell_type": "markdown",
   "metadata": {},
   "source": [
    "There appears to be no obvious directional movement in the graph and so therefore no obvious correlation between ratings and birth year"
   ]
  },
  {
   "cell_type": "code",
   "execution_count": 114,
   "metadata": {},
   "outputs": [
    {
     "data": {
      "text/plain": [
       "Text(0, 0.5, 'Overall Ratings')"
      ]
     },
     "execution_count": 114,
     "metadata": {},
     "output_type": "execute_result"
    },
    {
     "data": {
      "image/png": "[encoded data removed]",
      "text/plain": [
       "<Figure size 432x288 with 1 Axes>"
      ]
     },
     "metadata": {
      "needs_background": "light"
     },
     "output_type": "display_data"
    }
   ],
   "source": [
    "ax1=df_combined.plot(x='birth_month',y='overall_rating_2007',kind='scatter', color='green')\n",
    "df_combined.plot(kind='scatter',ax=ax1,x='birth_month',y='overall_rating_2016', title='Ratings vs birth Month')\n",
    "ax1.legend(['2007','2016'], bbox_to_anchor=(1.0, 1.0))\n",
    "ax1.set_ylabel('Overall Ratings')\n",
    "#There seems to be no correlation"
   ]
  },
  {
   "cell_type": "markdown",
   "metadata": {},
   "source": [
    "There appears to be no correlation between overall ratings and birth month"
   ]
  },
  {
   "cell_type": "markdown",
   "metadata": {},
   "source": [
    "### Research Question 2  (Do left footed players have better potential)"
   ]
  },
  {
   "cell_type": "code",
   "execution_count": 104,
   "metadata": {},
   "outputs": [
    {
     "data": {
      "text/plain": [
       "73.65816326530613"
      ]
     },
     "execution_count": 104,
     "metadata": {},
     "output_type": "execute_result"
    }
   ],
   "source": [
    "# \n",
    "df_combined[df_combined['preferred_foot']=='left'].potential_2016.mean()"
   ]
  },
  {
   "cell_type": "code",
   "execution_count": 105,
   "metadata": {},
   "outputs": [
    {
     "data": {
      "text/plain": [
       "71.74166121648136"
      ]
     },
     "execution_count": 105,
     "metadata": {},
     "output_type": "execute_result"
    }
   ],
   "source": [
    "df_combined[df_combined['preferred_foot']=='right'].potential_2007.mean()\n",
    "#left footed players seems to have higher potential"
   ]
  },
  {
   "cell_type": "code",
   "execution_count": 106,
   "metadata": {},
   "outputs": [
    {
     "data": {
      "text/html": [
       "<div>\n",
       "<style scoped>\n",
       "    .dataframe tbody tr th:only-of-type {\n",
       "        vertical-align: middle;\n",
       "    }\n",
       "\n",
       "    .dataframe tbody tr th {\n",
       "        vertical-align: top;\n",
       "    }\n",
       "\n",
       "    .dataframe thead th {\n",
       "        text-align: right;\n",
       "    }\n",
       "</style>\n",
       "<table border=\"1\" class=\"dataframe\">\n",
       "  <thead>\n",
       "    <tr style=\"text-align: right;\">\n",
       "      <th></th>\n",
       "      <th>player_api_id</th>\n",
       "      <th>player_name</th>\n",
       "      <th>height</th>\n",
       "      <th>weight</th>\n",
       "      <th>overall_rating_2016</th>\n",
       "      <th>potential_2016</th>\n",
       "      <th>preferred_foot</th>\n",
       "      <th>birth_year</th>\n",
       "      <th>birth_month</th>\n",
       "      <th>overall_rating_2007</th>\n",
       "      <th>potential_2007</th>\n",
       "      <th>difference</th>\n",
       "    </tr>\n",
       "  </thead>\n",
       "  <tbody>\n",
       "    <tr>\n",
       "      <th>0</th>\n",
       "      <td>505942</td>\n",
       "      <td>Aaron Appindangoye</td>\n",
       "      <td>182.88</td>\n",
       "      <td>187</td>\n",
       "      <td>67.0</td>\n",
       "      <td>71.0</td>\n",
       "      <td>right</td>\n",
       "      <td>1992</td>\n",
       "      <td>2</td>\n",
       "      <td>61.0</td>\n",
       "      <td>65.0</td>\n",
       "      <td>6.0</td>\n",
       "    </tr>\n",
       "    <tr>\n",
       "      <th>1</th>\n",
       "      <td>27316</td>\n",
       "      <td>Aaron Hunt</td>\n",
       "      <td>182.88</td>\n",
       "      <td>161</td>\n",
       "      <td>77.0</td>\n",
       "      <td>77.0</td>\n",
       "      <td>left</td>\n",
       "      <td>1986</td>\n",
       "      <td>9</td>\n",
       "      <td>73.0</td>\n",
       "      <td>80.0</td>\n",
       "      <td>4.0</td>\n",
       "    </tr>\n",
       "    <tr>\n",
       "      <th>2</th>\n",
       "      <td>564793</td>\n",
       "      <td>Aaron Kuhl</td>\n",
       "      <td>172.72</td>\n",
       "      <td>146</td>\n",
       "      <td>61.0</td>\n",
       "      <td>75.0</td>\n",
       "      <td>right</td>\n",
       "      <td>1996</td>\n",
       "      <td>1</td>\n",
       "      <td>60.0</td>\n",
       "      <td>77.0</td>\n",
       "      <td>1.0</td>\n",
       "    </tr>\n",
       "    <tr>\n",
       "      <th>3</th>\n",
       "      <td>528212</td>\n",
       "      <td>Aaron Lennox</td>\n",
       "      <td>190.50</td>\n",
       "      <td>181</td>\n",
       "      <td>48.0</td>\n",
       "      <td>56.0</td>\n",
       "      <td>right</td>\n",
       "      <td>1993</td>\n",
       "      <td>2</td>\n",
       "      <td>48.0</td>\n",
       "      <td>57.0</td>\n",
       "      <td>0.0</td>\n",
       "    </tr>\n",
       "    <tr>\n",
       "      <th>4</th>\n",
       "      <td>231592</td>\n",
       "      <td>Aaron Mooy</td>\n",
       "      <td>175.26</td>\n",
       "      <td>150</td>\n",
       "      <td>75.0</td>\n",
       "      <td>78.0</td>\n",
       "      <td>right</td>\n",
       "      <td>1990</td>\n",
       "      <td>9</td>\n",
       "      <td>60.0</td>\n",
       "      <td>67.0</td>\n",
       "      <td>15.0</td>\n",
       "    </tr>\n",
       "  </tbody>\n",
       "</table>\n",
       "</div>"
      ],
      "text/plain": [
       "   player_api_id         player_name  height  weight  overall_rating_2016  \\\n",
       "0         505942  Aaron Appindangoye  182.88     187                 67.0   \n",
       "1          27316          Aaron Hunt  182.88     161                 77.0   \n",
       "2         564793          Aaron Kuhl  172.72     146                 61.0   \n",
       "3         528212        Aaron Lennox  190.50     181                 48.0   \n",
       "4         231592          Aaron Mooy  175.26     150                 75.0   \n",
       "\n",
       "   potential_2016 preferred_foot  birth_year  birth_month  \\\n",
       "0            71.0          right        1992            2   \n",
       "1            77.0           left        1986            9   \n",
       "2            75.0          right        1996            1   \n",
       "3            56.0          right        1993            2   \n",
       "4            78.0          right        1990            9   \n",
       "\n",
       "   overall_rating_2007  potential_2007  difference  \n",
       "0                 61.0            65.0         6.0  \n",
       "1                 73.0            80.0         4.0  \n",
       "2                 60.0            77.0         1.0  \n",
       "3                 48.0            57.0         0.0  \n",
       "4                 60.0            67.0        15.0  "
      ]
     },
     "execution_count": 106,
     "metadata": {},
     "output_type": "execute_result"
    }
   ],
   "source": [
    "df_combined.head()"
   ]
  },
  {
   "cell_type": "code",
   "execution_count": 117,
   "metadata": {},
   "outputs": [],
   "source": [
    "### Do players with high Potential have Higher Ratings?"
   ]
  },
  {
   "cell_type": "code",
   "execution_count": 118,
   "metadata": {},
   "outputs": [
    {
     "data": {
      "text/plain": [
       "Text(0, 0.5, 'Overall Rating')"
      ]
     },
     "execution_count": 118,
     "metadata": {},
     "output_type": "execute_result"
    },
    {
     "data": {
      "image/png": "[encoded data removed]",
      "text/plain": [
       "<Figure size 432x288 with 1 Axes>"
      ]
     },
     "metadata": {
      "needs_background": "light"
     },
     "output_type": "display_data"
    }
   ],
   "source": [
    "ax1=df_combined.plot(x='potential_2016',y='overall_rating_2016',kind='scatter', color='red')\n",
    "df_combined.plot(kind='scatter',ax=ax1,x='potential_2007',y='overall_rating_2007', title='Ratings Vs Potential')\n",
    "ax1.legend(['2007','2016'], bbox_to_anchor=(1.0, 1.0))\n",
    "ax1.set_ylabel('Overall Rating')\n",
    "#Potential seems to be correlated with Overall Artings"
   ]
  },
  {
   "cell_type": "markdown",
   "metadata": {},
   "source": [
    "We notice that from the graph of Potential against Ratings. Increase in Ratings is associated with increase in Potential.\n",
    "We can say that they are both correlated"
   ]
  },
  {
   "cell_type": "markdown",
   "metadata": {},
   "source": [
    "<a id='conclusions'></a>\n",
    "## Conclusions\n",
    "Our data tells us that\n",
    "\n",
    "1) The tallest player is Vanja Milinkovic-Savic with a height of about 203\n",
    "\n",
    "2) The shortest player is Bakari Kone with a height of about 162\n",
    "\n",
    "3) The most improved player rating from 2007 to 2016 is Lamine Kone\n",
    "\n",
    "4) The player with the most potential in 2016 is Neymar\n",
    "\n",
    "5) The distribution of left and right-footed players is unbalanced with the number of right footed players higher by significant margin.\n",
    "\n",
    "6) A players birth month or birth year does not imply an improved or reduced rating\n",
    "\n",
    "7) Players Potential is correlated with overall ratings. Players found to have high potentials were seen to have higher ratings\n",
    "\n",
    "8) Left footed players have better potential on Average that right footed Players\n",
    "\n",
    "\n",
    "\n",
    "### Limitations\n",
    "\n",
    "The original source of data contained missing values and a lot of cleaning and data preparation had to be performed. Therefore, Data does not represent the true population count and characteristics. Conclusions draw from this dataset are solely for  \n",
    "\n",
    "#### Other areas to explore\n",
    "\n",
    "1) Relationship between overall_rating and potential for left-footed players?\n",
    "\n",
    "2) Which player attributes contribute more to the overall rating?\n",
    "\n",
    "3) Does player weight affect their overall rating? \n",
    "\n",
    "And so on. The data is really broad and so there are a lot of things to explore.\n",
    "\n",
    "I'd love to do an ML project on this going forward\n"
   ]
  },
  {
   "cell_type": "code",
   "execution_count": null,
   "metadata": {},
   "outputs": [],
   "source": []
  }
 ],
 "metadata": {
  "kernelspec": {
   "display_name": "Python 3",
   "language": "python",
   "name": "python3"
  },
  "language_info": {
   "codemirror_mode": {
    "name": "ipython",
    "version": 3
   },
   "file_extension": ".py",
   "mimetype": "text/x-python",
   "name": "python",
   "nbconvert_exporter": "python",
   "pygments_lexer": "ipython3",
   "version": "3.8.5"
  }
 },
 "nbformat": 4,
 "nbformat_minor": 2
}
